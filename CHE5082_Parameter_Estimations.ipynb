{
  "nbformat": 4,
  "nbformat_minor": 0,
  "metadata": {
    "colab": {
      "provenance": [],
      "authorship_tag": "ABX9TyOYsMSK7cLxQQR9kkV8iqok",
      "include_colab_link": true
    },
    "kernelspec": {
      "name": "python3",
      "display_name": "Python 3"
    },
    "language_info": {
      "name": "python"
    }
  },
  "cells": [
    {
      "cell_type": "markdown",
      "metadata": {
        "id": "view-in-github",
        "colab_type": "text"
      },
      "source": [
        "<a href=\"https://colab.research.google.com/github/michaelknorr/CHE5082/blob/main/CHE5082_Parameter_Estimations.ipynb\" target=\"_parent\"><img src=\"https://colab.research.google.com/assets/colab-badge.svg\" alt=\"Open In Colab\"/></a>"
      ]
    },
    {
      "cell_type": "markdown",
      "source": [
        "**Calculate BP and MP by Group Contribution Method & Estimate Vapor Pressure (in atm) by Antoine Equation**"
      ],
      "metadata": {
        "id": "OYIXDziXYoyK"
      }
    },
    {
      "cell_type": "code",
      "source": [
        "!pip install chetoolbox\n",
        "import chetoolbox.common as ch\n",
        "import chetoolbox.separations as che\n",
        "import numpy as np\n",
        "bp_group_contributions = {\n",
        "    \"-CH3\": 21.98,\n",
        "    \">CH2\": 24.22,\n",
        "    '>C_ringH2':26.44,\n",
        "    '>CH-':11.86,\n",
        "    '>C_ringH-':21.66,\n",
        "    '>C<':4.5,\n",
        "    '>C_ring<':11.12,\n",
        "    '=CH2':16.44,\n",
        "    '=CH-':27.95,\n",
        "    '=C_ringH-':28.03,\n",
        "    '=C<':23.58,\n",
        "    '=C_ring<':28.19,\n",
        "    'aaCH*':28.53,\n",
        "    'aaC-':30.76,\n",
        "    'aaaC':45.46,\n",
        "    '=CH':21.71,\n",
        "    '=C-':32.99,\n",
        "\n",
        "    '-OH':106.27,\n",
        "    'Primary-OH': 88.46,\n",
        "    'Secondary-OH':80.63,\n",
        "    'Tertiary-OH':69.32,\n",
        "    'Aromatic-OH':70.48,\n",
        "    '-O-':25.16,\n",
        "    '-O_ring-':32.98,\n",
        "    '-OOH-': 72.92,\n",
        "\n",
        "    '-CHO':83.38,\n",
        "    '>CO':71.53,\n",
        "    '>C_ringO':94.76,\n",
        "    '-C(O)O-':78.85,\n",
        "    '-C_ring(O)O_ring-':172.49,\n",
        "    '-C(O)OH':169.83,\n",
        "    '-C(O)NH2':230.39,\n",
        "    'C(O)NH-':225.09,\n",
        "    'C_ring(O)N_ringH-':246.13,\n",
        "    '-C(O)N<':142.77,\n",
        "    '-C_ring(O)N_ring<':180.22,\n",
        "\n",
        "    '-NH2':61.98,\n",
        "    'Aromatic-NH2':86.63,\n",
        "    '>NH':45.28,\n",
        "    '>N_ringH':65.5,\n",
        "    '>N-':25.78,\n",
        "    '>N_ring-':32.77,\n",
        "    '>NOH':104.87,\n",
        "    '>NNO':184.68,\n",
        "    'anN':39.88,\n",
        "    '=NH':73.4,\n",
        "    '=N_ring-':43.54,\n",
        "    '=N_ringN_ringH-':179.43,\n",
        "    '-N_ring=C_ringN_ringH-':284.16,\n",
        "    '-N=NNH-':257.29,\n",
        "    '-N=N-':90.87,\n",
        "    '-NO':30.91,\n",
        "    '-NO2':113.99,\n",
        "    '-CN':119.16,\n",
        "    'Aromatic-CN':95.43,\n",
        "\n",
        "    '-F':0.13,\n",
        "    'Aromatic-F':-7.81,\n",
        "    '-Cl':34.08,\n",
        "    'Primary-Cl':62.63,\n",
        "    'Secondary-Cl':49.41,\n",
        "    'Tertiary-Cl':36.23,\n",
        "    'Aromatic-Cl':36.79,\n",
        "    '-Br':76.28,\n",
        "    'Aromatic-Br':61.85,\n",
        "    '-I':111.67,\n",
        "    'Aromatic-I': 99.93,\n",
        "\n",
        "    '-SH': 81.71,\n",
        "    'Aromatic-SH':77.49,\n",
        "    '-S-':69.42,\n",
        "    '-Sring-':69.00,\n",
        "    '>SO':154.50,\n",
        "    '>SO2':171.58,\n",
        "    '>CS':106.20,\n",
        "    '>CringS':179.26,\n",
        "\n",
        "}\n"
      ],
      "metadata": {
        "id": "X2AMfzvnHFpf",
        "colab": {
          "base_uri": "https://localhost:8080/"
        },
        "outputId": "9f058a34-f73e-404d-f964-20bd84eb5cf9"
      },
      "execution_count": 32,
      "outputs": [
        {
          "output_type": "stream",
          "name": "stdout",
          "text": [
            "Requirement already satisfied: chetoolbox in /usr/local/lib/python3.11/dist-packages (0.0.11)\n",
            "Requirement already satisfied: numpy in /usr/local/lib/python3.11/dist-packages (from chetoolbox) (1.26.4)\n",
            "Requirement already satisfied: scipy in /usr/local/lib/python3.11/dist-packages (from chetoolbox) (1.13.1)\n",
            "Requirement already satisfied: pandas in /usr/local/lib/python3.11/dist-packages (from chetoolbox) (2.2.2)\n",
            "Requirement already satisfied: python-dateutil>=2.8.2 in /usr/local/lib/python3.11/dist-packages (from pandas->chetoolbox) (2.8.2)\n",
            "Requirement already satisfied: pytz>=2020.1 in /usr/local/lib/python3.11/dist-packages (from pandas->chetoolbox) (2024.2)\n",
            "Requirement already satisfied: tzdata>=2022.7 in /usr/local/lib/python3.11/dist-packages (from pandas->chetoolbox) (2025.1)\n",
            "Requirement already satisfied: six>=1.5 in /usr/local/lib/python3.11/dist-packages (from python-dateutil>=2.8.2->pandas->chetoolbox) (1.17.0)\n"
          ]
        }
      ]
    },
    {
      "cell_type": "code",
      "source": [
        "def calculate_boiling_point(groups):\n",
        "    bp_group_contributions = {\n",
        "        \"-CH3\": 21.98, \">CH2\": 24.22, '>C_ringH2': 26.44,\n",
        "        \">CH-\": 11.86, '>C_ringH-': 21.66, '>C<': 4.5,\n",
        "        '>C_ring<': 11.12, '=CH2': 16.44, '=CH-': 27.95,\n",
        "        '=C_ringH-': 28.03, '=C<': 23.58, '=C_ring<': 28.19,\n",
        "        'aaCH': 28.53, 'aaC-': 30.76, 'aaaC': 45.46,\n",
        "        '=CH': 21.71, '=C-': 32.99, '-OH': 106.27,\n",
        "        'Primary-OH': 88.46, 'Secondary-OH': 80.63,\n",
        "        'Tertiary-OH': 69.32, 'Aromatic-OH': 70.48,\n",
        "        '-O-': 25.16, '-O_ring-': 32.98, '-OOH-': 72.92,\n",
        "        '-CHO': 83.38, '>CO': 71.53, '>C_ringO': 94.76,\n",
        "        '-C(O)O-': 78.85, '-C_ring(O)O_ring-': 172.49,\n",
        "        '-C(O)OH': 169.83, '-C(O)NH2': 230.39,\n",
        "        'C(O)NH-': 225.09, 'C_ring(O)N_ringH-': 246.13,\n",
        "        '-C(O)N<': 142.77, '-C_ring(O)N_ring<': 180.22,\n",
        "        '-NH2': 61.98, 'Aromatic-NH2': 86.63,\n",
        "        '>NH': 45.28, '>N_ringH': 65.5, '>N-': 25.78,\n",
        "        '>N_ring-': 32.77, '>NOH': 104.87, '>NNO': 184.68,\n",
        "        'anN': 39.88, '=NH': 73.4, '=N_ring-': 43.54,\n",
        "        '=N_ringN_ringH-': 179.43, '-N_ring=C_ringN_ringH-': 284.16,\n",
        "        '-N=NNH-': 257.29, '-N=N-': 90.87, '-NO': 30.91,\n",
        "        '-NO2': 113.99, '-CN': 119.16, 'Aromatic-CN': 95.43,\n",
        "        '-F': 0.13, 'Aromatic-F': -7.81, '-Cl': 34.08,\n",
        "        'Primary-Cl': 62.63, 'Secondary-Cl': 49.41,\n",
        "        'Tertiary-Cl': 36.23, 'Aromatic-Cl': 36.79,\n",
        "        '-Br': 76.28, 'Aromatic-Br': 61.85, '-I': 111.67,\n",
        "        'Aromatic-I': 99.93, '-SH': 81.71, 'Aromatic-SH': 77.49,\n",
        "        '-S-': 69.42, '-Sring-': 69.00, '>SO': 154.5,\n",
        "        '>SO2': 171.58, '>CS': 106.2, '>CringS': 179.26,\n",
        "    }\n",
        "\n",
        "    # Base boiling point calculation\n",
        "    Tb = 198.2 + sum(groups.get(group, 0) * bp_group_contributions.get(group, 0) for group in groups)\n",
        "\n",
        "    # Apply correction\n",
        "    if Tb < 700:\n",
        "        Tb_corrected = Tb - 98.84 + 0.5577 * Tb - 0.0007705 * Tb ** 2\n",
        "    else:\n",
        "        Tb_corrected = Tb + 282.7 - 0.5209 * Tb\n",
        "\n",
        "    #Calculate Melting Point\n",
        "    Tm=0.5839*Tb_corrected\n",
        "\n",
        "    if Tm>298:\n",
        "      print(\"substance is solid @ room temp\")\n",
        "      T=float(input('Please input the temperature at which the vapor pressure is to be calculated (K): '))\n",
        "      Pvap=np.exp(-(4.4+np.log10(Tb_corrected))*(1.803*(Tb_corrected/T-1)-0.803*np.log(Tb_corrected/Tb))-6.8*(Tm/T-1))\n",
        "\n",
        "    elif Tm<298 & Tb>298:\n",
        "      print(\"substance is liquid @ room temp\")\n",
        "      Kf= 1.06\n",
        "      print('calculated with assumed value of 1.06: CHECK TABLES FIRST!!!')\n",
        "      R=1.987 #Cal/mole.K\n",
        "      T=float(input('Please input the temperature at which the vapor pressure is to be calculated (K): '))\n",
        "      C=-19+0.19*Tb_corrected\n",
        "      A= Kf*(8.75+R*np.log(Tb_corrected))\n",
        "      Pvap=np.exp(((A*(Tb_corrected-C)**2)/(0.97*1.987*Tb_corrected))*(1/(Tb_corrected-C)-1/(T-C)))\n",
        "\n",
        "    elif Tb<298:\n",
        "      print(\"substance is vapor @ room temp\")\n",
        "    else:\n",
        "      print('figure out substance state @ room temp on your own')\n",
        "    return Tb, Tb_corrected, Tm, Pvap"
      ],
      "metadata": {
        "id": "MvsJYGsLPjz_"
      },
      "execution_count": 47,
      "outputs": []
    },
    {
      "cell_type": "code",
      "source": [
        "groups = {\"aaCH\": 3, \"aaC-\": 9, \"Aromatic-Cl\": 7}  # Example molecule\n",
        "boiling_point = calculate_boiling_point(groups)\n",
        "print(boiling_point)\n"
      ],
      "metadata": {
        "id": "4RMYenM6jfrI",
        "colab": {
          "base_uri": "https://localhost:8080/"
        },
        "outputId": "fbbb8347-7bc3-4e94-c18b-afc023988d1a"
      },
      "execution_count": 48,
      "outputs": [
        {
          "output_type": "stream",
          "name": "stdout",
          "text": [
            "substance is solid @ room temp\n",
            "Please input the temperature at which the vapor pressure is to be calculated (K): 298\n",
            "(818.1600000000001, 674.680456, 393.9459182584, 2.5578397728479394e-09)\n"
          ]
        }
      ]
    },
    {
      "cell_type": "markdown",
      "source": [
        "**Estimate the Octanol-Water partition coefficient (Kow)**"
      ],
      "metadata": {
        "id": "o5ejXddQhWa7"
      }
    },
    {
      "cell_type": "markdown",
      "source": [
        "****"
      ],
      "metadata": {
        "id": "JJrlPQPUYuUM"
      }
    },
    {
      "cell_type": "code",
      "source": [
        "def calculate_Kow(groups):\n",
        "  Kow_group_contributions = {\n",
        "        \"aaC\":0.2940, 'aaO':-0.0423, 'aaS':0.40802, 'aaN_fused':-0.0001, 'aaN_5_membered':-0.5262,\n",
        "        'aaN_6_membered':-0.7324,\n",
        "\n",
        "        '-CH3':0.5473, '-CH2-':0.4911, '-CH<':0.3614, '>C<':0.2676, 'C (no H)':0.9723,\n",
        "\n",
        "\n",
        "\n",
        "    }\n",
        "  Kow_correction_factors = {\n",
        "        \"-CH3\": 21.98, \">CH2\": 24.22, '>C_ringH2': 26.44,\n",
        "        \">CH-\": 11.86, '>C_ringH-': 21.66, '>C<': 4.5,\n",
        "        '>C_ring<': 11.12, '=CH2': 16.44, '=CH-': 27.95,\n",
        "        '=C_ringH-': 28.03, '=C<': 23.58, '=C_ring<': 28.19,\n",
        "        'aaCH': 28.53, 'aaC-': 30.76, 'aaaC': 45.46,\n",
        "        '=CH': 21.71, '=C-': 32.99, '-OH': 106.27,\n",
        "        'Primary-OH': 88.46, 'Secondary-OH': 80.63,\n",
        "        'Tertiary-OH': 69.32, 'Aromatic-OH': 70.48,\n",
        "        '-O-': 25.16, '-O_ring-': 32.98, '-OOH-': 72.92,\n",
        "        '-CHO': 83.38, '>CO': 71.53, '>C_ringO': 94.76,\n",
        "        '-C(O)O-': 78.85, '-C_ring(O)O_ring-': 172.49,\n",
        "        '-C(O)OH': 169.83, '-C(O)NH2': 230.39,\n",
        "        'C(O)NH-': 225.09, 'C_ring(O)N_ringH-': 246.13,\n",
        "        '-C(O)N<': 142.77, '-C_ring(O)N_ring<': 180.22,\n",
        "        '-NH2': 61.98, 'Aromatic-NH2': 86.63,\n",
        "        '>NH': 45.28, '>N_ringH': 65.5, '>N-': 25.78,\n",
        "        '>N_ring-': 32.77, '>NOH': 104.87, '>NNO': 184.68,\n",
        "        'anN': 39.88, '=NH': 73.4, '=N_ring-': 43.54,\n",
        "        '=N_ringN_ringH-': 179.43, '-N_ring=C_ringN_ringH-': 284.16,\n",
        "        '-N=NNH-': 257.29, '-N=N-': 90.87, '-NO': 30.91,\n",
        "        '-NO2': 113.99, '-CN': 119.16, 'Aromatic-CN': 95.43,\n",
        "        '-F': 0.13, 'Aromatic-F': -7.81, '-Cl': 34.08,\n",
        "        'Primary-Cl': 62.63, 'Secondary-Cl': 49.41,\n",
        "        'Tertiary-Cl': 36.23, 'Aromatic-Cl': 36.79,\n",
        "        '-Br': 76.28, 'Aromatic-Br': 61.85, '-I': 111.67,\n",
        "        'Aromatic-I': 99.93, '-SH': 81.71, 'Aromatic-SH': 77.49,\n",
        "        '-S-': 69.42, '-Sring-': 69.00, '>SO': 154.5,\n",
        "        '>SO2': 171.58, '>CS': 106.2, '>CringS': 179.26,\n",
        "    }\n",
        "\n",
        "    # Base boiling point calculation\n",
        "  Kow = 0.229 + sum(groups.get(group, 0) * Kow_group_contributions.get(group, 0) for group in groups)+ sum(groups.get(group, 0) * Kow_correction_factors.get(group, 0) for group in groups)\n",
        "  return Kow"
      ],
      "metadata": {
        "id": "juerWJ5Ma5i7"
      },
      "execution_count": 52,
      "outputs": []
    },
    {
      "cell_type": "code",
      "source": [
        "#logKow=0.229+sum(n*contribution)+(n*correction) //Octanol-Water Partition Coefficient\n",
        "#logBCF=0.77(Log(Kow))-0.7 + Sum(correction factors) //Bioconcentration Factor\n",
        "#LogS=0.342-1.03474*np.log10(Kow)-0.0108*(Tm-25) + Sum of Correction Factors //Water Solubility\n",
        "\n",
        "logKow=0.229+(n*contribution)+(n*correction)\n",
        "logBCF=0.77*logKow-0.7 + correction_BCF\n",
        "logS=0.342-1.03474*logKow-0.0108*(Tm-25) + SumofCorrectionFactors"
      ],
      "metadata": {
        "colab": {
          "base_uri": "https://localhost:8080/",
          "height": 222
        },
        "id": "9NauVgpHh_UW",
        "outputId": "5b45e997-3b07-45aa-dde2-a67bfa11d8e3"
      },
      "execution_count": 53,
      "outputs": [
        {
          "output_type": "error",
          "ename": "NameError",
          "evalue": "name 'n' is not defined",
          "traceback": [
            "\u001b[0;31m---------------------------------------------------------------------------\u001b[0m",
            "\u001b[0;31mNameError\u001b[0m                                 Traceback (most recent call last)",
            "\u001b[0;32m<ipython-input-53-730ea964d9e9>\u001b[0m in \u001b[0;36m<cell line: 0>\u001b[0;34m()\u001b[0m\n\u001b[1;32m      3\u001b[0m \u001b[0;31m#LogS=0.342-1.03474*np.log10(Kow)-0.0108*(Tm-25) + Sum of Correction Factors //Water Solubility\u001b[0m\u001b[0;34m\u001b[0m\u001b[0;34m\u001b[0m\u001b[0m\n\u001b[1;32m      4\u001b[0m \u001b[0;34m\u001b[0m\u001b[0m\n\u001b[0;32m----> 5\u001b[0;31m \u001b[0mlogKow\u001b[0m\u001b[0;34m=\u001b[0m\u001b[0;36m0.229\u001b[0m\u001b[0;34m+\u001b[0m\u001b[0;34m(\u001b[0m\u001b[0mn\u001b[0m\u001b[0;34m*\u001b[0m\u001b[0mcontribution\u001b[0m\u001b[0;34m)\u001b[0m\u001b[0;34m+\u001b[0m\u001b[0;34m(\u001b[0m\u001b[0mn\u001b[0m\u001b[0;34m*\u001b[0m\u001b[0mcorrection\u001b[0m\u001b[0;34m)\u001b[0m\u001b[0;34m\u001b[0m\u001b[0;34m\u001b[0m\u001b[0m\n\u001b[0m\u001b[1;32m      6\u001b[0m \u001b[0mlogBCF\u001b[0m\u001b[0;34m=\u001b[0m\u001b[0;36m0.77\u001b[0m\u001b[0;34m*\u001b[0m\u001b[0mlogKow\u001b[0m\u001b[0;34m-\u001b[0m\u001b[0;36m0.7\u001b[0m \u001b[0;34m+\u001b[0m \u001b[0mcorrection_BCF\u001b[0m\u001b[0;34m\u001b[0m\u001b[0;34m\u001b[0m\u001b[0m\n\u001b[1;32m      7\u001b[0m \u001b[0mlogS\u001b[0m\u001b[0;34m=\u001b[0m\u001b[0;36m0.342\u001b[0m\u001b[0;34m-\u001b[0m\u001b[0;36m1.03474\u001b[0m\u001b[0;34m*\u001b[0m\u001b[0mlogKow\u001b[0m\u001b[0;34m-\u001b[0m\u001b[0;36m0.0108\u001b[0m\u001b[0;34m*\u001b[0m\u001b[0;34m(\u001b[0m\u001b[0mTm\u001b[0m\u001b[0;34m-\u001b[0m\u001b[0;36m25\u001b[0m\u001b[0;34m)\u001b[0m \u001b[0;34m+\u001b[0m \u001b[0mSumofCorrectionFactors\u001b[0m\u001b[0;34m\u001b[0m\u001b[0;34m\u001b[0m\u001b[0m\n",
            "\u001b[0;31mNameError\u001b[0m: name 'n' is not defined"
          ]
        }
      ]
    },
    {
      "cell_type": "code",
      "source": [],
      "metadata": {
        "id": "dAj2j9eblk2s"
      },
      "execution_count": null,
      "outputs": []
    }
  ]
}